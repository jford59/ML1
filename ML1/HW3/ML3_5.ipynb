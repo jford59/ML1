{
  "nbformat": 4,
  "nbformat_minor": 0,
  "metadata": {
    "colab": {
      "provenance": [],
      "authorship_tag": "ABX9TyNnOhsn6k8WQ6kdmZOfUcu9",
      "include_colab_link": true
    },
    "kernelspec": {
      "name": "python3",
      "display_name": "Python 3"
    },
    "language_info": {
      "name": "python"
    }
  },
  "cells": [
    {
      "cell_type": "markdown",
      "metadata": {
        "id": "view-in-github",
        "colab_type": "text"
      },
      "source": [
        "<a href=\"https://colab.research.google.com/github/jford59/ML1/blob/main/ML1/HW3/ML3_5.ipynb\" target=\"_parent\"><img src=\"https://colab.research.google.com/assets/colab-badge.svg\" alt=\"Open In Colab\"/></a>"
      ]
    },
    {
      "cell_type": "code",
      "execution_count": 3,
      "metadata": {
        "colab": {
          "base_uri": "https://localhost:8080/",
          "height": 658
        },
        "id": "3PUcYWr3-JQ0",
        "outputId": "730c2c1e-67a8-48b2-8678-e3986fdc5fdf"
      },
      "outputs": [
        {
          "output_type": "stream",
          "name": "stdout",
          "text": [
            "Drive already mounted at /content/drive; to attempt to forcibly remount, call drive.mount(\"/content/drive\", force_remount=True).\n",
            "Accuracy =  0.8859649122807017\n",
            "Precision =  0.8372093023255814\n",
            "Recall =  0.8571428571428571\n",
            "F1 Score =  0.8470588235294119\n"
          ]
        },
        {
          "output_type": "execute_result",
          "data": {
            "text/plain": [
              "Text(0.5, 427.9555555555555, 'Predicted Label')"
            ]
          },
          "metadata": {},
          "execution_count": 3
        },
        {
          "output_type": "display_data",
          "data": {
            "text/plain": [
              "<Figure size 640x480 with 2 Axes>"
            ],
            "image/png": "[encoded data removed]"
          },
          "metadata": {}
        }
      ],
      "source": [
        "import numpy as np\n",
        "import pandas as pd\n",
        "import matplotlib.pyplot as plt\n",
        "import seaborn as sns\n",
        "from sklearn.model_selection import KFold\n",
        "from sklearn.model_selection import cross_val_score\n",
        "from sklearn.naive_bayes import GaussianNB\n",
        "from sklearn import datasets\n",
        "from sklearn import metrics\n",
        "from sklearn.metrics import confusion_matrix\n",
        "from sklearn.model_selection import train_test_split\n",
        "from sklearn.preprocessing import MinMaxScaler\n",
        "from sklearn.preprocessing import StandardScaler\n",
        "from sklearn.decomposition import PCA\n",
        "from google.colab import drive\n",
        "drive.mount('/content/drive')\n",
        "\n",
        "file_path = '/content/drive/My Drive/cancer.csv'\n",
        "cancer = pd.DataFrame(pd.read_csv(file_path))\n",
        "\n",
        "cancer.isnull().sum()*100/cancer.shape[0]\n",
        "\n",
        "cancer.pop(\"id\")\n",
        "cancer.pop(\"Unnamed: 32\")\n",
        "\n",
        "cancer[\"diagnosis\"] = cancer[\"diagnosis\"].map({'M':1,'B':0})\n",
        "\n",
        "y = cancer.pop(\"diagnosis\")\n",
        "x = cancer.values\n",
        "\n",
        "pca = PCA(n_components=16)\n",
        "pca_x = pca.fit_transform(x)\n",
        "\n",
        "np.random.seed(1)\n",
        "x_train, x_test, y_train, y_test = train_test_split(pca_x, y, train_size = 0.8)\n",
        "\n",
        "scaler = StandardScaler()\n",
        "x_train = scaler.fit_transform(x_train)\n",
        "x_test = scaler.fit_transform(x_test)\n",
        "\n",
        "model = GaussianNB()\n",
        "\n",
        "model.fit(x_train, y_train)\n",
        "\n",
        "pred = model.predict(x_test)\n",
        "\n",
        "cnf_matrix = confusion_matrix(y_test, pred)\n",
        "cnf_matrix\n",
        "\n",
        "accuracy = metrics.accuracy_score(y_test, pred)\n",
        "precision = metrics.precision_score(y_test, pred)\n",
        "recall = metrics.recall_score(y_test, pred)\n",
        "F1 = (2*precision*recall)/(precision+recall)\n",
        "print('Accuracy = ', accuracy)\n",
        "print('Precision = ', precision)\n",
        "print('Recall = ', recall)\n",
        "print('F1 Score = ', F1)\n",
        "\n",
        "class_names = ['Benign','Malignant']\n",
        "fig, ax = plt.subplots()\n",
        "tick_marks = np.arange(len(class_names))\n",
        "plt.xticks(tick_marks, class_names)\n",
        "plt.yticks(tick_marks, class_names)\n",
        "\n",
        "sns.heatmap(pd.DataFrame(cnf_matrix), annot=True, cmap='YlGnBu', fmt='g')\n",
        "ax.xaxis.set_label_position('top')\n",
        "plt.tight_layout()\n",
        "plt.title('Confusion Matrix', y=1.1)\n",
        "plt.ylabel('Actual Label')\n",
        "plt.xlabel('Predicted Label')"
      ]
    }
  ]
}